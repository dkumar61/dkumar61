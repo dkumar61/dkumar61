{
 "cells": [
  {
   "cell_type": "code",
   "execution_count": 26,
   "metadata": {},
   "outputs": [],
   "source": [
    "from pydruid.client import *"
   ]
  },
  {
   "cell_type": "code",
   "execution_count": 27,
   "metadata": {},
   "outputs": [],
   "source": [
    "query = PyDruid('http://18.218.21.17:3888', 'druid/v2/')"
   ]
  },
  {
   "cell_type": "code",
   "execution_count": 28,
   "metadata": {},
   "outputs": [
    {
     "data": {
      "text/plain": [
       "<pydruid.db.api.Cursor at 0x121e52518>"
      ]
     },
     "execution_count": 28,
     "metadata": {},
     "output_type": "execute_result"
    }
   ],
   "source": [
    "from pydruid.client import *\n",
    "from pydruid import *\n",
    "from pylab import plt\n",
    "from pydruid.query import QueryBuilder\n",
    "from pydruid.utils.postaggregator import *\n",
    "from pydruid.utils.aggregators import *\n",
    "from pydruid.utils.filters import *\n",
    "\n",
    "query = PyDruid('http://18.218.21.17:3888', 'druid/v2/')\n",
    "\n",
    "from pydruid.db import connect\n",
    "\n",
    "conn = connect(host='18.218.21.17', port=3888, path='/druid/v2/sql/', scheme='http')\n",
    "curs = conn.cursor()\n",
    "curs.execute(\"\"\"\n",
    "    SELECT * FROM \"claims\"\n",
    "     LIMIT 10\n",
    "\"\"\")\n",
    "#for row in curs:\n",
    "#    print(row)\n",
    "#df = a.export_pandas()\n",
    "#print(\"top_langs\")"
   ]
  },
  {
   "cell_type": "code",
   "execution_count": 22,
   "metadata": {},
   "outputs": [],
   "source": [
    "from sqlalchemy import *\n",
    "from sqlalchemy.engine import create_engine\n",
    "from sqlalchemy.schema import *\n",
    "import pandas as pd\n",
    "\n",
    "#Chnage host and port for Druid db\n",
    "engine = create_engine(\"druid://18.218.21.17:3888/druid/v2/sql/\")\n",
    "\n",
    "places = Table('claims', MetaData(bind=engine), autoload=True)\n",
    "\n",
    "df = pd.read_sql(select([places.c.Claim_ID, places.c.Member_Id]), con=engine)\n"
   ]
  },
  {
   "cell_type": "code",
   "execution_count": 23,
   "metadata": {},
   "outputs": [
    {
     "data": {
      "image/png": "[encoded data removed]",
      "text/plain": [
       "<Figure size 432x288 with 1 Axes>"
      ]
     },
     "metadata": {
      "needs_background": "light"
     },
     "output_type": "display_data"
    }
   ],
   "source": [
    "import matplotlib.pyplot as plt\n",
    "%matplotlib inline \n",
    "\n",
    "df = df.head()\n",
    "\n",
    "df.groupby(['Claim_ID','Member_Id']).size().unstack().plot(kind='bar',stacked=True)\n",
    "plt.show()"
   ]
  },
  {
   "cell_type": "code",
   "execution_count": 29,
   "metadata": {},
   "outputs": [
    {
     "data": {
      "text/html": [
       "<div>\n",
       "<style scoped>\n",
       "    .dataframe tbody tr th:only-of-type {\n",
       "        vertical-align: middle;\n",
       "    }\n",
       "\n",
       "    .dataframe tbody tr th {\n",
       "        vertical-align: top;\n",
       "    }\n",
       "\n",
       "    .dataframe thead th {\n",
       "        text-align: right;\n",
       "    }\n",
       "</style>\n",
       "<table border=\"1\" class=\"dataframe\">\n",
       "  <thead>\n",
       "    <tr style=\"text-align: right;\">\n",
       "      <th></th>\n",
       "      <th>Claim_ID</th>\n",
       "      <th>Member_Id</th>\n",
       "    </tr>\n",
       "  </thead>\n",
       "  <tbody>\n",
       "    <tr>\n",
       "      <th>0</th>\n",
       "      <td>CLM000132</td>\n",
       "      <td>MBR13780</td>\n",
       "    </tr>\n",
       "    <tr>\n",
       "      <th>1</th>\n",
       "      <td>CLM000132</td>\n",
       "      <td>MBR13780</td>\n",
       "    </tr>\n",
       "    <tr>\n",
       "      <th>2</th>\n",
       "      <td>CLM000516</td>\n",
       "      <td>MBR00690</td>\n",
       "    </tr>\n",
       "    <tr>\n",
       "      <th>3</th>\n",
       "      <td>CLM000516</td>\n",
       "      <td>MBR00690</td>\n",
       "    </tr>\n",
       "    <tr>\n",
       "      <th>4</th>\n",
       "      <td>CLM001262</td>\n",
       "      <td>MBR01514</td>\n",
       "    </tr>\n",
       "  </tbody>\n",
       "</table>\n",
       "</div>"
      ],
      "text/plain": [
       "    Claim_ID Member_Id\n",
       "0  CLM000132  MBR13780\n",
       "1  CLM000132  MBR13780\n",
       "2  CLM000516  MBR00690\n",
       "3  CLM000516  MBR00690\n",
       "4  CLM001262  MBR01514"
      ]
     },
     "execution_count": 29,
     "metadata": {},
     "output_type": "execute_result"
    }
   ],
   "source": [
    "df"
   ]
  },
  {
   "cell_type": "code",
   "execution_count": null,
   "metadata": {},
   "outputs": [],
   "source": []
  }
 ],
 "metadata": {
  "kernelspec": {
   "display_name": "Python 3",
   "language": "python",
   "name": "python3"
  },
  "language_info": {
   "codemirror_mode": {
    "name": "ipython",
    "version": 3
   },
   "file_extension": ".py",
   "mimetype": "text/x-python",
   "name": "python",
   "nbconvert_exporter": "python",
   "pygments_lexer": "ipython3",
   "version": "3.6.10"
  }
 },
 "nbformat": 4,
 "nbformat_minor": 2
}
